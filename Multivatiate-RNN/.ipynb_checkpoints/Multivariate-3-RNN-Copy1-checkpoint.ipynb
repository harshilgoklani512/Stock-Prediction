{
 "cells": [
  {
   "cell_type": "code",
   "execution_count": 1,
   "metadata": {
    "colab": {},
    "colab_type": "code",
    "id": "S19jleua1_GE"
   },
   "outputs": [
    {
     "name": "stdout",
     "output_type": "stream",
     "text": [
      "3.6.8 |Anaconda, Inc.| (default, Feb 11 2019, 15:03:47) [MSC v.1915 64 bit (AMD64)]\n"
     ]
    }
   ],
   "source": [
    "import sys\n",
    "print(sys.version)"
   ]
  },
  {
   "cell_type": "code",
   "execution_count": 2,
   "metadata": {
    "colab": {},
    "colab_type": "code",
    "id": "XGXh32Yl3E5s"
   },
   "outputs": [
    {
     "name": "stderr",
     "output_type": "stream",
     "text": [
      "Using TensorFlow backend.\n"
     ]
    }
   ],
   "source": [
    "# Importing dependencies\n",
    "\n",
    "import numpy as np\n",
    "np.random.seed(1)\n",
    "from tensorflow import set_random_seed\n",
    "set_random_seed(2)\n",
    "import pandas as pd\n",
    "import matplotlib.pyplot as plt\n",
    "from keras.models import Sequential, load_model\n",
    "from keras.layers.core import Dense\n",
    "from keras.layers.recurrent import SimpleRNN\n",
    "from keras import optimizers\n",
    "from keras.callbacks import EarlyStopping\n",
    "from sklearn.preprocessing import MinMaxScaler\n",
    "from sklearn.metrics import mean_squared_error, r2_score\n",
    "from math import sqrt\n",
    "import datetime as dt\n",
    "import time\n",
    "plt.style.use('ggplot')"
   ]
  },
  {
   "cell_type": "markdown",
   "metadata": {},
   "source": [
    "## Dataset Preprocessing and Feature Extraction"
   ]
  },
  {
   "cell_type": "code",
   "execution_count": 3,
   "metadata": {
    "colab": {},
    "colab_type": "code",
    "id": "r5O0a39R9Z_Z"
   },
   "outputs": [
    {
     "data": {
      "text/html": [
       "<div>\n",
       "<style scoped>\n",
       "    .dataframe tbody tr th:only-of-type {\n",
       "        vertical-align: middle;\n",
       "    }\n",
       "\n",
       "    .dataframe tbody tr th {\n",
       "        vertical-align: top;\n",
       "    }\n",
       "\n",
       "    .dataframe thead th {\n",
       "        text-align: right;\n",
       "    }\n",
       "</style>\n",
       "<table border=\"1\" class=\"dataframe\">\n",
       "  <thead>\n",
       "    <tr style=\"text-align: right;\">\n",
       "      <th></th>\n",
       "      <th>Open</th>\n",
       "      <th>High</th>\n",
       "      <th>Low</th>\n",
       "      <th>Close</th>\n",
       "      <th>Adj Close</th>\n",
       "      <th>Volume</th>\n",
       "    </tr>\n",
       "    <tr>\n",
       "      <th>Date</th>\n",
       "      <th></th>\n",
       "      <th></th>\n",
       "      <th></th>\n",
       "      <th></th>\n",
       "      <th></th>\n",
       "      <th></th>\n",
       "    </tr>\n",
       "  </thead>\n",
       "  <tbody>\n",
       "    <tr>\n",
       "      <th>2019-02-15</th>\n",
       "      <td>19.200001</td>\n",
       "      <td>19.639999</td>\n",
       "      <td>19.180000</td>\n",
       "      <td>19.590000</td>\n",
       "      <td>19.590000</td>\n",
       "      <td>146000</td>\n",
       "    </tr>\n",
       "    <tr>\n",
       "      <th>2019-02-19</th>\n",
       "      <td>19.500000</td>\n",
       "      <td>19.600000</td>\n",
       "      <td>19.100000</td>\n",
       "      <td>19.549999</td>\n",
       "      <td>19.549999</td>\n",
       "      <td>138100</td>\n",
       "    </tr>\n",
       "    <tr>\n",
       "      <th>2019-02-20</th>\n",
       "      <td>19.660000</td>\n",
       "      <td>20.059999</td>\n",
       "      <td>19.520000</td>\n",
       "      <td>19.920000</td>\n",
       "      <td>19.920000</td>\n",
       "      <td>133400</td>\n",
       "    </tr>\n",
       "    <tr>\n",
       "      <th>2019-02-21</th>\n",
       "      <td>19.740000</td>\n",
       "      <td>20.790001</td>\n",
       "      <td>19.530001</td>\n",
       "      <td>20.190001</td>\n",
       "      <td>20.190001</td>\n",
       "      <td>167000</td>\n",
       "    </tr>\n",
       "    <tr>\n",
       "      <th>2019-02-22</th>\n",
       "      <td>20.389999</td>\n",
       "      <td>21.080000</td>\n",
       "      <td>20.379999</td>\n",
       "      <td>21.000000</td>\n",
       "      <td>21.000000</td>\n",
       "      <td>434100</td>\n",
       "    </tr>\n",
       "  </tbody>\n",
       "</table>\n",
       "</div>"
      ],
      "text/plain": [
       "                 Open       High        Low      Close  Adj Close  Volume\n",
       "Date                                                                     \n",
       "2019-02-15  19.200001  19.639999  19.180000  19.590000  19.590000  146000\n",
       "2019-02-19  19.500000  19.600000  19.100000  19.549999  19.549999  138100\n",
       "2019-02-20  19.660000  20.059999  19.520000  19.920000  19.920000  133400\n",
       "2019-02-21  19.740000  20.790001  19.530001  20.190001  20.190001  167000\n",
       "2019-02-22  20.389999  21.080000  20.379999  21.000000  21.000000  434100"
      ]
     },
     "execution_count": 3,
     "metadata": {},
     "output_type": "execute_result"
    }
   ],
   "source": [
    "# Loading the dataset\n",
    "#url = 'https://raw.githubusercontent.com/ninja3697/dataset/master/CSV.csv'\n",
    "url = '../../CSV.csv'\n",
    "df = pd.read_csv(url,parse_dates = True,index_col=0)\n",
    "df.tail()"
   ]
  },
  {
   "cell_type": "code",
   "execution_count": 4,
   "metadata": {
    "colab": {},
    "colab_type": "code",
    "id": "2H5Lkte_NgWT"
   },
   "outputs": [
    {
     "data": {
      "text/plain": [
       "Open         0.999440\n",
       "High         0.999733\n",
       "Low          0.999712\n",
       "Close        1.000000\n",
       "Adj Close    0.999319\n",
       "Volume       0.237297\n",
       "Name: Close, dtype: float64"
      ]
     },
     "execution_count": 4,
     "metadata": {},
     "output_type": "execute_result"
    }
   ],
   "source": [
    "# Correlation matrix\n",
    "df.corr()['Close']"
   ]
  },
  {
   "cell_type": "code",
   "execution_count": 5,
   "metadata": {
    "colab": {},
    "colab_type": "code",
    "id": "1anbu_yx3bta"
   },
   "outputs": [
    {
     "name": "stdout",
     "output_type": "stream",
     "text": [
      "count    5.672000e+03\n",
      "mean     6.335628e+04\n",
      "std      8.749770e+04\n",
      "min      0.000000e+00\n",
      "25%      1.850000e+04\n",
      "50%      3.985000e+04\n",
      "75%      7.900000e+04\n",
      "max      2.073400e+06\n",
      "Name: Volume, dtype: float64\n"
     ]
    },
    {
     "data": {
      "text/plain": [
       "<matplotlib.axes._subplots.AxesSubplot at 0x243549fda20>"
      ]
     },
     "execution_count": 5,
     "metadata": {},
     "output_type": "execute_result"
    },
    {
     "data": {
      "image/png": "[encoded data removed]",
      "text/plain": [
       "<Figure size 432x288 with 1 Axes>"
      ]
     },
     "metadata": {
      "needs_background": "light"
     },
     "output_type": "display_data"
    }
   ],
   "source": [
    "# Distribution of Various Features\n",
    "print(df.describe().Volume) \n",
    "df.drop(df[df['Volume']==0].index, inplace = True) #Dropping rows with volume value 0\n",
    "df['Volume'].hist(bins = 10)"
   ]
  },
  {
   "cell_type": "code",
   "execution_count": 6,
   "metadata": {
    "colab": {},
    "colab_type": "code",
    "id": "FNioyc6mZUAJ"
   },
   "outputs": [],
   "source": [
    "# Setting up an early stop\n",
    "earlystop = EarlyStopping(monitor='val_loss', min_delta=0.0001, patience=80,  verbose=1, mode='min')\n",
    "callbacks_list = [earlystop]"
   ]
  },
  {
   "cell_type": "code",
   "execution_count": 8,
   "metadata": {},
   "outputs": [],
   "source": [
    "timesteps = np.arange(30,55,10)\n",
    "hl = []\n",
    "for i in range(30,55,10):\n",
    "    hl.append([i,i-5])\n",
    "lr = [1e-5,1e-4,1e-3,1e-2]\n",
    "batch_size = [16,32,64]\n",
    "num_epochs = [20]"
   ]
  },
  {
   "cell_type": "code",
   "execution_count": 7,
   "metadata": {
    "colab": {},
    "colab_type": "code",
    "id": "zRVEzZ1FXj_p"
   },
   "outputs": [],
   "source": [
    "#Build and train the model\n",
    "def fit_model(train,val,timesteps,hl,lr,batch,epochs):\n",
    "    X_train = []\n",
    "    Y_train = []\n",
    "    X_val = []\n",
    "    Y_val = []\n",
    "  \n",
    "    # Loop for training data\n",
    "    for i in range(timesteps,train.shape[0]):\n",
    "        X_train.append(train[i-timesteps:i])\n",
    "        Y_train.append(train[i][0])\n",
    "    X_train,Y_train = np.array(X_train),np.array(Y_train)\n",
    "  \n",
    "    # Loop for val data\n",
    "    for i in range(timesteps,val.shape[0]):\n",
    "        X_val.append(val[i-timesteps:i])\n",
    "        Y_val.append(val[i][0])\n",
    "    X_val,Y_val = np.array(X_val),np.array(Y_val)\n",
    "    \n",
    "    # Adding Layers to the model\n",
    "    model = Sequential()\n",
    "    model.add(SimpleRNN(X_train.shape[2],input_shape = (X_train.shape[1],X_train.shape[2]),return_sequences = True,\n",
    "                        activation = 'relu'))\n",
    "    for i in range(len(hl)-1):        \n",
    "        model.add(SimpleRNN(hl[i],activation = 'relu',return_sequences = True))\n",
    "    model.add(SimpleRNN(hl[-1],activation = 'relu'))\n",
    "    model.add(Dense(1))\n",
    "    model.compile(optimizer = optimizers.Adam(lr = lr), loss = 'mean_squared_error')\n",
    "    #print(model.summary())\n",
    "  \n",
    "    # Training the data\n",
    "    history = model.fit(X_train,Y_train,epochs = epochs,batch_size = batch,validation_data = (X_val, Y_val),verbose = 0,\n",
    "                        shuffle = False)#, callbacks=callbacks_list)\n",
    "    #model.reset_states()\n",
    "    return model, history.history['loss'], history.history['val_loss']\n",
    "  "
   ]
  },
  {
   "cell_type": "code",
   "execution_count": 8,
   "metadata": {
    "colab": {},
    "colab_type": "code",
    "id": "LpwHmJeQJqyI"
   },
   "outputs": [],
   "source": [
    "# Evaluating the model\n",
    "def evaluate_model(model,test,timesteps):\n",
    "    X_test = []\n",
    "    Y_test = []\n",
    "\n",
    "    # Loop for testing data\n",
    "    for i in range(timesteps,test.shape[0]):\n",
    "        X_test.append(test[i-timesteps:i])\n",
    "        Y_test.append(test[i][0])\n",
    "    X_test,Y_test = np.array(X_test),np.array(Y_test)\n",
    "    #print(X_test.shape,Y_test.shape)\n",
    "  \n",
    "    # Prediction Time !!!!\n",
    "    Y_hat = model.predict(X_test)\n",
    "    mse = mean_squared_error(Y_test,Y_hat)\n",
    "    rmse = sqrt(mse)\n",
    "    r = r2_score(Y_test,Y_hat)\n",
    "    return mse, rmse, r, Y_test, Y_hat\n",
    "  "
   ]
  },
  {
   "cell_type": "code",
   "execution_count": 13,
   "metadata": {
    "colab": {},
    "colab_type": "code",
    "id": "pI0q18ajCLx6"
   },
   "outputs": [],
   "source": [
    "# Plotting the predictions\n",
    "def plot_data(Y_test,Y_hat):\n",
    "    plt.plot(Y_test,c = 'r')\n",
    "    plt.plot(Y_hat,c = 'y')\n",
    "    plt.xlabel('Day')\n",
    "    plt.ylabel('Price')\n",
    "    plt.title(\"Stock Price Prediction using Multivatiate-RNN\")\n",
    "    plt.legend(['Actual','Predicted'],loc = 'lower right')\n",
    "    plt.show()"
   ]
  },
  {
   "cell_type": "code",
   "execution_count": 14,
   "metadata": {
    "colab": {},
    "colab_type": "code",
    "id": "4NeqKRBZZr0Q"
   },
   "outputs": [],
   "source": [
    "# Plotting the training errors\n",
    "def plot_error(train_loss,val_loss):\n",
    "    plt.plot(train_loss,c = 'r')\n",
    "    plt.plot(val_loss,c = 'b')\n",
    "    plt.ylabel('Loss')\n",
    "    plt.xlabel('Epochs')\n",
    "    plt.title('Loss Plot')\n",
    "    plt.ylim(0,1e-3)\n",
    "    plt.legend(['train','val'],loc = 'upper right')\n",
    "    plt.show()"
   ]
  },
  {
   "cell_type": "markdown",
   "metadata": {},
   "source": [
    "## Model 1"
   ]
  },
  {
   "cell_type": "code",
   "execution_count": 9,
   "metadata": {
    "colab": {},
    "colab_type": "code",
    "id": "gAvOMIyjIQO-"
   },
   "outputs": [
    {
     "name": "stdout",
     "output_type": "stream",
     "text": [
      "(5670, 3)\n",
      "                Close       High  Volume\n",
      "Date                                    \n",
      "2019-02-15  19.590000  19.639999  146000\n",
      "2019-02-19  19.549999  19.600000  138100\n",
      "2019-02-20  19.920000  20.059999  133400\n",
      "2019-02-21  20.190001  20.790001  167000\n",
      "2019-02-22  21.000000  21.080000  434100\n"
     ]
    }
   ],
   "source": [
    "# Extracting the series\n",
    "series = df[['Close','High','Volume']] # Picking the multivariate series \n",
    "print(series.shape)\n",
    "print(series.tail())"
   ]
  },
  {
   "cell_type": "code",
   "execution_count": 10,
   "metadata": {},
   "outputs": [
    {
     "name": "stderr",
     "output_type": "stream",
     "text": [
      "C:\\Users\\Navodit\\Miniconda3\\lib\\site-packages\\sklearn\\preprocessing\\data.py:323: DataConversionWarning: Data with input dtype int64, float64 were all converted to float64 by MinMaxScaler.\n",
      "  return self.partial_fit(X, y)\n"
     ]
    },
    {
     "data": {
      "text/plain": [
       "array([[0.5505618 , 0.55257271, 0.77239184],\n",
       "       [0.5505618 , 0.55257271, 0.1257898 ],\n",
       "       [0.54606742, 0.55257271, 0.07847393],\n",
       "       ...,\n",
       "       [0.84323592, 0.8371365 , 0.03940578],\n",
       "       [0.84179775, 0.83964206, 0.01885882],\n",
       "       [0.84503374, 0.83821029, 0.02353736]])"
      ]
     },
     "execution_count": 10,
     "metadata": {},
     "output_type": "execute_result"
    }
   ],
   "source": [
    "# Normalisation\n",
    "sc = MinMaxScaler()\n",
    "series = sc.fit_transform(series[:5500])\n",
    "series"
   ]
  },
  {
   "cell_type": "code",
   "execution_count": 11,
   "metadata": {},
   "outputs": [
    {
     "name": "stderr",
     "output_type": "stream",
     "text": [
      "C:\\Users\\Navodit\\Miniconda3\\lib\\site-packages\\ipykernel\\__main__.py:17: FutureWarning: The signature of `Series.to_csv` was aligned to that of `DataFrame.to_csv`, and argument 'header' will change its default value from False to True: please pass an explicit value to suppress this warning.\n",
      "C:\\Users\\Navodit\\Miniconda3\\lib\\site-packages\\ipykernel\\__main__.py:18: FutureWarning: The signature of `Series.to_csv` was aligned to that of `DataFrame.to_csv`, and argument 'header' will change its default value from False to True: please pass an explicit value to suppress this warning.\n",
      "C:\\Users\\Navodit\\Miniconda3\\lib\\site-packages\\ipykernel\\__main__.py:20: FutureWarning: The signature of `Series.to_csv` was aligned to that of `DataFrame.to_csv`, and argument 'header' will change its default value from False to True: please pass an explicit value to suppress this warning.\n",
      "C:\\Users\\Navodit\\Miniconda3\\lib\\site-packages\\ipykernel\\__main__.py:21: FutureWarning: The signature of `Series.to_csv` was aligned to that of `DataFrame.to_csv`, and argument 'header' will change its default value from False to True: please pass an explicit value to suppress this warning.\n"
     ]
    },
    {
     "name": "stdout",
     "output_type": "stream",
     "text": [
      "Split 1\n",
      "MSE = 0.00027764021946811025\n",
      "RMSE = 0.01666253940634831\n",
      "R-Squared Score = 0.6681108446528632\n"
     ]
    },
    {
     "name": "stderr",
     "output_type": "stream",
     "text": [
      "C:\\Users\\Navodit\\Miniconda3\\lib\\site-packages\\ipykernel\\__main__.py:52: FutureWarning: The signature of `Series.to_csv` was aligned to that of `DataFrame.to_csv`, and argument 'header' will change its default value from False to True: please pass an explicit value to suppress this warning.\n",
      "C:\\Users\\Navodit\\Miniconda3\\lib\\site-packages\\ipykernel\\__main__.py:53: FutureWarning: The signature of `Series.to_csv` was aligned to that of `DataFrame.to_csv`, and argument 'header' will change its default value from False to True: please pass an explicit value to suppress this warning.\n",
      "C:\\Users\\Navodit\\Miniconda3\\lib\\site-packages\\ipykernel\\__main__.py:56: FutureWarning: The signature of `Series.to_csv` was aligned to that of `DataFrame.to_csv`, and argument 'header' will change its default value from False to True: please pass an explicit value to suppress this warning.\n",
      "C:\\Users\\Navodit\\Miniconda3\\lib\\site-packages\\ipykernel\\__main__.py:57: FutureWarning: The signature of `Series.to_csv` was aligned to that of `DataFrame.to_csv`, and argument 'header' will change its default value from False to True: please pass an explicit value to suppress this warning.\n"
     ]
    },
    {
     "name": "stdout",
     "output_type": "stream",
     "text": [
      "Split 2\n",
      "MSE = 0.00019142503747735865\n",
      "RMSE = 0.013835643731946795\n",
      "R-Squared Score = 0.9779564643925848\n"
     ]
    },
    {
     "name": "stderr",
     "output_type": "stream",
     "text": [
      "C:\\Users\\Navodit\\Miniconda3\\lib\\site-packages\\ipykernel\\__main__.py:52: FutureWarning: The signature of `Series.to_csv` was aligned to that of `DataFrame.to_csv`, and argument 'header' will change its default value from False to True: please pass an explicit value to suppress this warning.\n",
      "C:\\Users\\Navodit\\Miniconda3\\lib\\site-packages\\ipykernel\\__main__.py:53: FutureWarning: The signature of `Series.to_csv` was aligned to that of `DataFrame.to_csv`, and argument 'header' will change its default value from False to True: please pass an explicit value to suppress this warning.\n",
      "C:\\Users\\Navodit\\Miniconda3\\lib\\site-packages\\ipykernel\\__main__.py:56: FutureWarning: The signature of `Series.to_csv` was aligned to that of `DataFrame.to_csv`, and argument 'header' will change its default value from False to True: please pass an explicit value to suppress this warning.\n",
      "C:\\Users\\Navodit\\Miniconda3\\lib\\site-packages\\ipykernel\\__main__.py:57: FutureWarning: The signature of `Series.to_csv` was aligned to that of `DataFrame.to_csv`, and argument 'header' will change its default value from False to True: please pass an explicit value to suppress this warning.\n"
     ]
    },
    {
     "name": "stdout",
     "output_type": "stream",
     "text": [
      "Split 3\n",
      "MSE = 2.620105669144977e-05\n",
      "RMSE = 0.00511869677666589\n",
      "R-Squared Score = 0.9801179729218218\n"
     ]
    },
    {
     "name": "stderr",
     "output_type": "stream",
     "text": [
      "C:\\Users\\Navodit\\Miniconda3\\lib\\site-packages\\ipykernel\\__main__.py:52: FutureWarning: The signature of `Series.to_csv` was aligned to that of `DataFrame.to_csv`, and argument 'header' will change its default value from False to True: please pass an explicit value to suppress this warning.\n",
      "C:\\Users\\Navodit\\Miniconda3\\lib\\site-packages\\ipykernel\\__main__.py:53: FutureWarning: The signature of `Series.to_csv` was aligned to that of `DataFrame.to_csv`, and argument 'header' will change its default value from False to True: please pass an explicit value to suppress this warning.\n",
      "C:\\Users\\Navodit\\Miniconda3\\lib\\site-packages\\ipykernel\\__main__.py:56: FutureWarning: The signature of `Series.to_csv` was aligned to that of `DataFrame.to_csv`, and argument 'header' will change its default value from False to True: please pass an explicit value to suppress this warning.\n",
      "C:\\Users\\Navodit\\Miniconda3\\lib\\site-packages\\ipykernel\\__main__.py:57: FutureWarning: The signature of `Series.to_csv` was aligned to that of `DataFrame.to_csv`, and argument 'header' will change its default value from False to True: please pass an explicit value to suppress this warning.\n"
     ]
    },
    {
     "name": "stdout",
     "output_type": "stream",
     "text": [
      "Split 4\n",
      "MSE = 0.0006643711802853483\n",
      "RMSE = 0.02577539874153935\n",
      "R-Squared Score = 0.9669289680957589\n"
     ]
    },
    {
     "name": "stderr",
     "output_type": "stream",
     "text": [
      "C:\\Users\\Navodit\\Miniconda3\\lib\\site-packages\\ipykernel\\__main__.py:52: FutureWarning: The signature of `Series.to_csv` was aligned to that of `DataFrame.to_csv`, and argument 'header' will change its default value from False to True: please pass an explicit value to suppress this warning.\n",
      "C:\\Users\\Navodit\\Miniconda3\\lib\\site-packages\\ipykernel\\__main__.py:53: FutureWarning: The signature of `Series.to_csv` was aligned to that of `DataFrame.to_csv`, and argument 'header' will change its default value from False to True: please pass an explicit value to suppress this warning.\n"
     ]
    },
    {
     "name": "stdout",
     "output_type": "stream",
     "text": [
      "Split 5\n",
      "MSE = 0.00617220370881744\n",
      "RMSE = 0.07856337383805154\n",
      "R-Squared Score = -0.06531341251147382\n"
     ]
    },
    {
     "name": "stderr",
     "output_type": "stream",
     "text": [
      "C:\\Users\\Navodit\\Miniconda3\\lib\\site-packages\\ipykernel\\__main__.py:56: FutureWarning: The signature of `Series.to_csv` was aligned to that of `DataFrame.to_csv`, and argument 'header' will change its default value from False to True: please pass an explicit value to suppress this warning.\n",
      "C:\\Users\\Navodit\\Miniconda3\\lib\\site-packages\\ipykernel\\__main__.py:57: FutureWarning: The signature of `Series.to_csv` was aligned to that of `DataFrame.to_csv`, and argument 'header' will change its default value from False to True: please pass an explicit value to suppress this warning.\n"
     ]
    }
   ],
   "source": [
    "## Cross Validation ##\n",
    "#Splitting the data for initial model creation\n",
    "train_size,val_size,test_size = ,750,750\n",
    "train = series[:train_size]\n",
    "val = series[train_size:train_size+val_size]\n",
    "test = series[train_size+val_size:train_size+val_size+test_size]\n",
    "\n",
    "#Hyperparameters\n",
    "timesteps = 30\n",
    "hl = [50,45]\n",
    "lr = 1e-3\n",
    "batch_size = 32\n",
    "num_epochs = 20\n",
    "cross_val_results = list()\n",
    "\n",
    "model,train_error,val_error = fit_model(train,val,timesteps,hl,lr,batch_size,num_epochs)\n",
    "pd.Series(train_error).to_csv('MV3RNN_train_loss_split1.csv')\n",
    "pd.Series(val_error).to_csv('MV3RNN_val_loss_split1.csv')\n",
    "mse, rmse, r2_value,true,predicted = evaluate_model(model,test,timesteps)\n",
    "pd.Series(true).to_csv('true_split1.csv')\n",
    "pd.Series(predicted[:,0]).to_csv('predicted_split1.csv')\n",
    "print(\"Split 1\")\n",
    "print('MSE = {}'.format(mse))\n",
    "print('RMSE = {}'.format(rmse))\n",
    "print('R-Squared Score = {}'.format(r2_value))\n",
    "cross_val_results.append([train_error[-1],val_error[-1],mse,rmse,r2_value,0])\n",
    "p = 2\n",
    "\n",
    "for i in range(1000,4000,750):\n",
    "    train = series[i-train_size+val_size:i+val_size]\n",
    "    val = series[i+val_size:i+val_size+test_size]\n",
    "    test = series[i+val_size+test_size:i+val_size+test_size+test_size]\n",
    "    X_train,Y_train,X_val,Y_val = [],[],[],[]\n",
    "    \n",
    "    # Loop for training data\n",
    "    for i in range(timesteps,train.shape[0]):\n",
    "        X_train.append(train[i-timesteps:i])\n",
    "        Y_train.append(train[i][0])\n",
    "    X_train,Y_train = np.array(X_train),np.array(Y_train)\n",
    "\n",
    "    # Loop for val data\n",
    "    for i in range(timesteps,val.shape[0]):\n",
    "        X_val.append(val[i-timesteps:i])\n",
    "        Y_val.append(val[i][0])\n",
    "    X_val,Y_val = np.array(X_val),np.array(Y_val)\n",
    "    \n",
    "    start = time.time()\n",
    "    history = model.fit(X_train,Y_train,epochs = num_epochs,batch_size = batch_size,validation_data = (X_val, Y_val),\n",
    "                        verbose = 0,shuffle = False)\n",
    "    end = time.time()\n",
    "    \n",
    "    pd.Series(history.history['loss']).to_csv('MV3RNN_train_loss_split{}.csv'.format(p))\n",
    "    pd.Series(history.history['val_loss']).to_csv('MV3RNN_val_loss_split{}.csv'.format(p))\n",
    "    mse, rmse, r2_value,true,predicted = evaluate_model(model,test,timesteps)\n",
    "    \n",
    "    pd.Series(true).to_csv('true_split{}.csv'.format(p))\n",
    "    pd.Series(predicted[:,0]).to_csv('predicted_split{}.csv'.format(p))\n",
    "    print(\"Split {}\".format(p))\n",
    "    print('MSE = {}'.format(mse))\n",
    "    print('RMSE = {}'.format(rmse))\n",
    "    print('R-Squared Score = {}'.format(r2_value))\n",
    "    cross_val_results.append([train_error[-1],val_error[-1],mse,rmse,r2_value,end-start])\n",
    "    p += 1\n",
    "\n",
    "pd.DataFrame(cross_val_results,columns=['Train_Loss','Val_Loss','MSE','RMSE','R2_Score','Train_Time']).to_csv(\n",
    "    'MV3-RNN_CrossValidation.csv')\n"
   ]
  },
  {
   "cell_type": "code",
   "execution_count": 16,
   "metadata": {
    "colab": {},
    "colab_type": "code",
    "id": "Tjso-RjNDmbs"
   },
   "outputs": [
    {
     "name": "stdout",
     "output_type": "stream",
     "text": [
      "(2515, 3) (504, 3) (503, 3)\n"
     ]
    }
   ],
   "source": [
    "# Train Val Test Split\n",
    "train_start = dt.date(1997,1,1)\n",
    "train_end = dt.date(2006,12,31)\n",
    "train_data = series.loc[train_start:train_end]\n",
    "\n",
    "val_start = dt.date(2007,1,1)\n",
    "val_end = dt.date(2008,12,31)\n",
    "val_data = series.loc[val_start:val_end]\n",
    "\n",
    "test_start = dt.date(2009,1,1)\n",
    "test_end = dt.date(2010,12,31)\n",
    "test_data = series.loc[test_start:test_end]\n",
    "\n",
    "print(train_data.shape,val_data.shape,test_data.shape)"
   ]
  },
  {
   "cell_type": "code",
   "execution_count": 17,
   "metadata": {
    "colab": {},
    "colab_type": "code",
    "id": "NWXR5oL2ZnY4"
   },
   "outputs": [
    {
     "name": "stdout",
     "output_type": "stream",
     "text": [
      "(2515, 3) (504, 3) (503, 3)\n"
     ]
    },
    {
     "name": "stderr",
     "output_type": "stream",
     "text": [
      "C:\\Users\\Navodit\\Miniconda3\\lib\\site-packages\\sklearn\\preprocessing\\data.py:323: DataConversionWarning: Data with input dtype int64, float64 were all converted to float64 by MinMaxScaler.\n",
      "  return self.partial_fit(X, y)\n"
     ]
    }
   ],
   "source": [
    "# Normalisation\n",
    "sc = MinMaxScaler()\n",
    "train = sc.fit_transform(train_data)\n",
    "val = sc.transform(val_data)\n",
    "test = sc.transform(test_data)\n",
    "print(train.shape,val.shape,test.shape)"
   ]
  },
  {
   "cell_type": "code",
   "execution_count": null,
   "metadata": {},
   "outputs": [],
   "source": [
    "results = list()\n",
    "for l in hl:\n",
    "    for rate in lr:\n",
    "        for batch in batch_size:\n",
    "            for epochs in num_epochs:\n",
    "                model,train_loss,val_loss = fit_model(train,val,timesteps[2],l,rate,batch,epochs)\n",
    "                results.append([timesteps[2],l,rate,batch,train_loss[-1],val_loss[-1]])\n",
    "pd.DataFrame(results,columns=['Timestep','Hidden_Layers','Learning_Rate','Batch_Size','Train_Loss','Val_Loss']).to_csv('Multivariate-3-RNN_2.csv')"
   ]
  },
  {
   "cell_type": "code",
   "execution_count": 18,
   "metadata": {},
   "outputs": [],
   "source": [
    "timesteps = 30\n",
    "hl = [50,45]\n",
    "lr = 1e-3\n",
    "batch_size = 32\n",
    "num_epochs = 500"
   ]
  },
  {
   "cell_type": "code",
   "execution_count": null,
   "metadata": {},
   "outputs": [
    {
     "name": "stdout",
     "output_type": "stream",
     "text": [
      "(2485, 30, 3)\n"
     ]
    }
   ],
   "source": [
    "model,train_error,val_error = fit_model(train,val,timesteps,hl,lr,batch_size,num_epochs)\n",
    "plot_error(train_error,val_error)"
   ]
  },
  {
   "cell_type": "code",
   "execution_count": 18,
   "metadata": {},
   "outputs": [
    {
     "name": "stderr",
     "output_type": "stream",
     "text": [
      "C:\\Users\\Navodit\\Miniconda3\\lib\\site-packages\\ipykernel\\__main__.py:1: FutureWarning: The signature of `Series.to_csv` was aligned to that of `DataFrame.to_csv`, and argument 'header' will change its default value from False to True: please pass an explicit value to suppress this warning.\n",
      "  if __name__ == '__main__':\n",
      "C:\\Users\\Navodit\\Miniconda3\\lib\\site-packages\\ipykernel\\__main__.py:2: FutureWarning: The signature of `Series.to_csv` was aligned to that of `DataFrame.to_csv`, and argument 'header' will change its default value from False to True: please pass an explicit value to suppress this warning.\n",
      "  from ipykernel import kernelapp as app\n"
     ]
    }
   ],
   "source": [
    "pd.Series(train_error).to_csv('model_simple_30_[50,45]_1e-3_32_train_loss.csv')\n",
    "pd.Series(val_error).to_csv('model_simple_30_[50,45]_1e-3_32_val_loss.csv')"
   ]
  },
  {
   "cell_type": "code",
   "execution_count": 17,
   "metadata": {},
   "outputs": [
    {
     "name": "stdout",
     "output_type": "stream",
     "text": [
      "RMSE = 0.004655080133936364\n",
      "MSE = 2.1669771053369e-05\n",
      "R-Squared Score = 0.981763705331547\n"
     ]
    },
    {
     "data": {
      "image/png": "[encoded data removed]",
      "text/plain": [
       "<Figure size 432x288 with 1 Axes>"
      ]
     },
     "metadata": {
      "needs_background": "light"
     },
     "output_type": "display_data"
    }
   ],
   "source": [
    "rmse, r2_value,true,predicted = evaluate_model(model,test,30)\n",
    "print('RMSE = {}'.format(rmse))\n",
    "print('MSE = {}'.format(rmse*rmse))\n",
    "print('R-Squared Score = {}'.format(r2_value))\n",
    "plot_data(true,predicted)"
   ]
  },
  {
   "cell_type": "code",
   "execution_count": 19,
   "metadata": {
    "colab": {},
    "colab_type": "code",
    "id": "5mJnzFIPCZnw"
   },
   "outputs": [],
   "source": [
    "# Save a model\n",
    "model.save('MV3-RNN_30_[50,45]_1e-3_32.h5')\n",
    "del model # Deletes the model\n",
    "# Load a model\n",
    "#model = load_model('model2.h5')"
   ]
  },
  {
   "cell_type": "markdown",
   "metadata": {},
   "source": [
    "## Model 2\n",
    "Converting volume to log scale and see what changes happen"
   ]
  },
  {
   "cell_type": "code",
   "execution_count": 12,
   "metadata": {},
   "outputs": [
    {
     "name": "stdout",
     "output_type": "stream",
     "text": [
      "count    5670.000000\n",
      "mean       10.517722\n",
      "std         1.094958\n",
      "min         4.605170\n",
      "25%         9.826874\n",
      "50%        10.594132\n",
      "75%        11.277203\n",
      "max        14.544700\n",
      "Name: Volume_log, dtype: float64\n"
     ]
    },
    {
     "data": {
      "text/plain": [
       "<matplotlib.axes._subplots.AxesSubplot at 0x1f1f0bb7ba8>"
      ]
     },
     "execution_count": 12,
     "metadata": {},
     "output_type": "execute_result"
    },
    {
     "data": {
      "image/png": "[encoded data removed]",
      "text/plain": [
       "<Figure size 432x288 with 1 Axes>"
      ]
     },
     "metadata": {
      "needs_background": "light"
     },
     "output_type": "display_data"
    }
   ],
   "source": [
    "# Converting Volume to log scale\n",
    "df['Volume_log'] = np.log(df['Volume'])\n",
    "print(df['Volume_log'].describe())\n",
    "df['Volume_log'].hist(bins=20)"
   ]
  },
  {
   "cell_type": "code",
   "execution_count": 13,
   "metadata": {},
   "outputs": [
    {
     "name": "stdout",
     "output_type": "stream",
     "text": [
      "(5670, 3)\n",
      "                Close       High  Volume_log\n",
      "Date                                        \n",
      "2019-02-15  19.590000  19.639999   11.891362\n",
      "2019-02-19  19.549999  19.600000   11.835733\n",
      "2019-02-20  19.920000  20.059999   11.801107\n",
      "2019-02-21  20.190001  20.790001   12.025749\n",
      "2019-02-22  21.000000  21.080000   12.981030\n"
     ]
    }
   ],
   "source": [
    "# Extracting the series\n",
    "series = df[['Close','High','Volume_log']] # Picking the multivariate series \n",
    "print(series.shape)\n",
    "print(series.tail())"
   ]
  },
  {
   "cell_type": "code",
   "execution_count": 14,
   "metadata": {
    "colab": {},
    "colab_type": "code",
    "id": "Tjso-RjNDmbs"
   },
   "outputs": [
    {
     "name": "stdout",
     "output_type": "stream",
     "text": [
      "(2515, 3) (504, 3) (503, 3)\n"
     ]
    }
   ],
   "source": [
    "# Train Val Test Split\n",
    "train_start = dt.date(1997,1,1)\n",
    "train_end = dt.date(2006,12,31)\n",
    "train_data = series.loc[train_start:train_end]\n",
    "\n",
    "val_start = dt.date(2007,1,1)\n",
    "val_end = dt.date(2008,12,31)\n",
    "val_data = series.loc[val_start:val_end]\n",
    "\n",
    "test_start = dt.date(2009,1,1)\n",
    "test_end = dt.date(2010,12,31)\n",
    "test_data = series.loc[test_start:test_end]\n",
    "\n",
    "print(train_data.shape,val_data.shape,test_data.shape)"
   ]
  },
  {
   "cell_type": "code",
   "execution_count": 15,
   "metadata": {
    "colab": {},
    "colab_type": "code",
    "id": "NWXR5oL2ZnY4"
   },
   "outputs": [
    {
     "name": "stdout",
     "output_type": "stream",
     "text": [
      "(2515, 3) (504, 3) (503, 3)\n"
     ]
    }
   ],
   "source": [
    "# Normalisation\n",
    "sc = MinMaxScaler()\n",
    "train = sc.fit_transform(train_data)\n",
    "val = sc.transform(val_data)\n",
    "test = sc.transform(test_data)\n",
    "print(train.shape,val.shape,test.shape)"
   ]
  },
  {
   "cell_type": "code",
   "execution_count": null,
   "metadata": {},
   "outputs": [],
   "source": [
    "results = list()\n",
    "for l in hl:\n",
    "    for rate in lr:\n",
    "        for batch in batch_size:\n",
    "            for epochs in num_epochs:\n",
    "                model,train_loss,val_loss = fit_model(train,val,timesteps[2],l,rate,batch,epochs)\n",
    "                results.append([timesteps[2],l,rate,batch,train_loss[-1],val_loss[-1]])\n",
    "pd.DataFrame(results,columns=['Timestep','Hidden_Layers','Learning_Rate','Batch_Size','Train_Loss','Val_Loss']).to_csv('Multivariate-3-RNN_2.csv')\n"
   ]
  },
  {
   "cell_type": "code",
   "execution_count": 16,
   "metadata": {},
   "outputs": [
    {
     "data": {
      "text/plain": [
       "'\\nEach epoch requires about 2 seconds on average\\nCallback afer 222 epochs\\n'"
      ]
     },
     "execution_count": 16,
     "metadata": {},
     "output_type": "execute_result"
    }
   ],
   "source": [
    "timesteps = 30\n",
    "hl = [50,45]\n",
    "lr = 1e-3\n",
    "batch_size = 32\n",
    "num_epochs = 500\n",
    "'''\n",
    "Each epoch requires about 2 seconds on average\n",
    "Callback afer 245 epochs\n",
    "'''"
   ]
  },
  {
   "cell_type": "code",
   "execution_count": 17,
   "metadata": {
    "scrolled": false
   },
   "outputs": [
    {
     "name": "stdout",
     "output_type": "stream",
     "text": [
      "Epoch 00245: early stopping\n"
     ]
    }
   ],
   "source": [
    "model,train_error,val_error = fit_model(train,val,timesteps,hl,lr,batch_size,num_epochs)"
   ]
  },
  {
   "cell_type": "code",
   "execution_count": 21,
   "metadata": {},
   "outputs": [
    {
     "name": "stderr",
     "output_type": "stream",
     "text": [
      "C:\\Users\\Navodit\\Miniconda3\\lib\\site-packages\\ipykernel\\__main__.py:1: FutureWarning: The signature of `Series.to_csv` was aligned to that of `DataFrame.to_csv`, and argument 'header' will change its default value from False to True: please pass an explicit value to suppress this warning.\n",
      "  if __name__ == '__main__':\n",
      "C:\\Users\\Navodit\\Miniconda3\\lib\\site-packages\\ipykernel\\__main__.py:2: FutureWarning: The signature of `Series.to_csv` was aligned to that of `DataFrame.to_csv`, and argument 'header' will change its default value from False to True: please pass an explicit value to suppress this warning.\n",
      "  from ipykernel import kernelapp as app\n"
     ]
    },
    {
     "data": {
      "image/png": "[encoded data removed]",
      "text/plain": [
       "<Figure size 432x288 with 1 Axes>"
      ]
     },
     "metadata": {
      "needs_background": "light"
     },
     "output_type": "display_data"
    }
   ],
   "source": [
    "pd.Series(train_error).to_csv('model_log_30_[50,45]_1e-3_32_train_loss.csv')\n",
    "pd.Series(val_error).to_csv('model_log_30_[50,45]_1e-3_32_val_loss.csv')\n",
    "plot_error(train_error,val_error)"
   ]
  },
  {
   "cell_type": "code",
   "execution_count": 23,
   "metadata": {},
   "outputs": [
    {
     "name": "stdout",
     "output_type": "stream",
     "text": [
      "RMSE = 0.0074371421461815425\n",
      "MSE = 5.53110833025098e-05\n",
      "R-Squared Score = 0.9534527055661208\n"
     ]
    },
    {
     "data": {
      "image/png": "[encoded data removed]",
      "text/plain": [
       "<Figure size 432x288 with 1 Axes>"
      ]
     },
     "metadata": {
      "needs_background": "light"
     },
     "output_type": "display_data"
    }
   ],
   "source": [
    "rmse, r2_value,true,predicted = evaluate_model(model,test,30)\n",
    "print('RMSE = {}'.format(rmse))\n",
    "print('MSE = {}'.format(rmse*rmse))\n",
    "print('R-Squared Score = {}'.format(r2_value))\n",
    "plot_data(true,predicted)"
   ]
  },
  {
   "cell_type": "code",
   "execution_count": null,
   "metadata": {},
   "outputs": [],
   "source": [
    "# Save a model\n",
    "#model.save('model_log_30_[50,45]_1e-3_32.h5')\n",
    "del model # Deletes the model\n",
    "# Load a model\n",
    "#model = load_model('model2.h5')"
   ]
  },
  {
   "cell_type": "code",
   "execution_count": null,
   "metadata": {},
   "outputs": [],
   "source": []
  }
 ],
 "metadata": {
  "accelerator": "TPU",
  "colab": {
   "collapsed_sections": [],
   "name": "Multivariate-3-RNN.ipynb",
   "provenance": [
    {
     "file_id": "1ANiwUb7Hem1MxFKaX-BUbbEjAGAmJ2l8",
     "timestamp": 1551233927654
    },
    {
     "file_id": "1TbS1iN6r9LWkUIIg2eyr5EB0pIzV5yAK",
     "timestamp": 1551228758851
    },
    {
     "file_id": "1iQNCZLjJhQ56R4aZ1sLrnNQ4PS2KfN2m",
     "timestamp": 1551146300148
    },
    {
     "file_id": "1OKnKPBI38XYPGQW0xUAj0nnJbfO6SuXE",
     "timestamp": 1550670800726
    }
   ],
   "version": "0.3.2"
  },
  "kernelspec": {
   "display_name": "Python [default]",
   "language": "python",
   "name": "python3"
  },
  "language_info": {
   "codemirror_mode": {
    "name": "ipython",
    "version": 3
   },
   "file_extension": ".py",
   "mimetype": "text/x-python",
   "name": "python",
   "nbconvert_exporter": "python",
   "pygments_lexer": "ipython3",
   "version": "3.6.8"
  }
 },
 "nbformat": 4,
 "nbformat_minor": 1
}
