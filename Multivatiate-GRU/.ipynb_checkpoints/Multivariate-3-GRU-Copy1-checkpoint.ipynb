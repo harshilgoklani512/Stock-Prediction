{
 "cells": [
  {
   "cell_type": "code",
   "execution_count": 1,
   "metadata": {
    "colab": {},
    "colab_type": "code",
    "id": "S19jleua1_GE"
   },
   "outputs": [
    {
     "name": "stdout",
     "output_type": "stream",
     "text": [
      "3.6.8 |Anaconda, Inc.| (default, Feb 11 2019, 15:03:47) [MSC v.1915 64 bit (AMD64)]\n"
     ]
    }
   ],
   "source": [
    "import sys\n",
    "print(sys.version)"
   ]
  },
  {
   "cell_type": "code",
   "execution_count": null,
   "metadata": {
    "colab": {},
    "colab_type": "code",
    "id": "XGXh32Yl3E5s"
   },
   "outputs": [],
   "source": [
    "# Importing dependencies\n",
    "\n",
    "import numpy as np\n",
    "np.random.seed(1)\n",
    "from tensorflow import set_random_seed\n",
    "set_random_seed(2)\n",
    "import pandas as pd\n",
    "import matplotlib.pyplot as plt\n",
    "from keras.models import Sequential, load_model\n",
    "from keras.layers.core import Dense\n",
    "from keras.layers.recurrent import GRU\n",
    "from keras import optimizers\n",
    "from keras.callbacks import EarlyStopping\n",
    "from sklearn.preprocessing import MinMaxScaler\n",
    "from sklearn.metrics import mean_squared_error, r2_score\n",
    "from math import sqrt\n",
    "import datetime as dt\n",
    "plt.style.use('ggplot')"
   ]
  },
  {
   "cell_type": "markdown",
   "metadata": {},
   "source": [
    "### Data Preprocessing"
   ]
  },
  {
   "cell_type": "code",
   "execution_count": 2,
   "metadata": {
    "colab": {},
    "colab_type": "code",
    "id": "FNioyc6mZUAJ"
   },
   "outputs": [],
   "source": [
    "# Setting up an early stop\n",
    "earlystop = EarlyStopping(monitor='val_loss', min_delta=0.0001, patience=80,  verbose=1, mode='min')\n",
    "callbacks_list = [earlystop]"
   ]
  },
  {
   "cell_type": "code",
   "execution_count": 3,
   "metadata": {
    "colab": {},
    "colab_type": "code",
    "id": "r5O0a39R9Z_Z"
   },
   "outputs": [
    {
     "data": {
      "text/html": [
       "<div>\n",
       "<style scoped>\n",
       "    .dataframe tbody tr th:only-of-type {\n",
       "        vertical-align: middle;\n",
       "    }\n",
       "\n",
       "    .dataframe tbody tr th {\n",
       "        vertical-align: top;\n",
       "    }\n",
       "\n",
       "    .dataframe thead th {\n",
       "        text-align: right;\n",
       "    }\n",
       "</style>\n",
       "<table border=\"1\" class=\"dataframe\">\n",
       "  <thead>\n",
       "    <tr style=\"text-align: right;\">\n",
       "      <th></th>\n",
       "      <th>Open</th>\n",
       "      <th>High</th>\n",
       "      <th>Low</th>\n",
       "      <th>Close</th>\n",
       "      <th>Adj Close</th>\n",
       "      <th>Volume</th>\n",
       "    </tr>\n",
       "    <tr>\n",
       "      <th>Date</th>\n",
       "      <th></th>\n",
       "      <th></th>\n",
       "      <th></th>\n",
       "      <th></th>\n",
       "      <th></th>\n",
       "      <th></th>\n",
       "    </tr>\n",
       "  </thead>\n",
       "  <tbody>\n",
       "    <tr>\n",
       "      <th>2019-02-15</th>\n",
       "      <td>19.200001</td>\n",
       "      <td>19.639999</td>\n",
       "      <td>19.180000</td>\n",
       "      <td>19.590000</td>\n",
       "      <td>19.590000</td>\n",
       "      <td>146000</td>\n",
       "    </tr>\n",
       "    <tr>\n",
       "      <th>2019-02-19</th>\n",
       "      <td>19.500000</td>\n",
       "      <td>19.600000</td>\n",
       "      <td>19.100000</td>\n",
       "      <td>19.549999</td>\n",
       "      <td>19.549999</td>\n",
       "      <td>138100</td>\n",
       "    </tr>\n",
       "    <tr>\n",
       "      <th>2019-02-20</th>\n",
       "      <td>19.660000</td>\n",
       "      <td>20.059999</td>\n",
       "      <td>19.520000</td>\n",
       "      <td>19.920000</td>\n",
       "      <td>19.920000</td>\n",
       "      <td>133400</td>\n",
       "    </tr>\n",
       "    <tr>\n",
       "      <th>2019-02-21</th>\n",
       "      <td>19.740000</td>\n",
       "      <td>20.790001</td>\n",
       "      <td>19.530001</td>\n",
       "      <td>20.190001</td>\n",
       "      <td>20.190001</td>\n",
       "      <td>167000</td>\n",
       "    </tr>\n",
       "    <tr>\n",
       "      <th>2019-02-22</th>\n",
       "      <td>20.389999</td>\n",
       "      <td>21.080000</td>\n",
       "      <td>20.379999</td>\n",
       "      <td>21.000000</td>\n",
       "      <td>21.000000</td>\n",
       "      <td>434100</td>\n",
       "    </tr>\n",
       "  </tbody>\n",
       "</table>\n",
       "</div>"
      ],
      "text/plain": [
       "                 Open       High        Low      Close  Adj Close  Volume\n",
       "Date                                                                     \n",
       "2019-02-15  19.200001  19.639999  19.180000  19.590000  19.590000  146000\n",
       "2019-02-19  19.500000  19.600000  19.100000  19.549999  19.549999  138100\n",
       "2019-02-20  19.660000  20.059999  19.520000  19.920000  19.920000  133400\n",
       "2019-02-21  19.740000  20.790001  19.530001  20.190001  20.190001  167000\n",
       "2019-02-22  20.389999  21.080000  20.379999  21.000000  21.000000  434100"
      ]
     },
     "execution_count": 3,
     "metadata": {},
     "output_type": "execute_result"
    }
   ],
   "source": [
    "# Loading the dataset\n",
    "url = 'https://raw.githubusercontent.com/ninja3697/dataset/master/CSV.csv'\n",
    "#url = '../../CSV.csv'\n",
    "df = pd.read_csv(url,parse_dates = True,index_col=0)\n",
    "df.tail()"
   ]
  },
  {
   "cell_type": "code",
   "execution_count": 4,
   "metadata": {
    "colab": {},
    "colab_type": "code",
    "id": "2H5Lkte_NgWT"
   },
   "outputs": [
    {
     "data": {
      "text/plain": [
       "Open         0.999440\n",
       "High         0.999733\n",
       "Low          0.999712\n",
       "Close        1.000000\n",
       "Adj Close    0.999319\n",
       "Volume       0.237297\n",
       "Name: Close, dtype: float64"
      ]
     },
     "execution_count": 4,
     "metadata": {},
     "output_type": "execute_result"
    }
   ],
   "source": [
    "# Correlation matrix\n",
    "df.corr()['Close']"
   ]
  },
  {
   "cell_type": "code",
   "execution_count": 6,
   "metadata": {},
   "outputs": [
    {
     "name": "stdout",
     "output_type": "stream",
     "text": [
      "count    5.670000e+03\n",
      "mean     6.337862e+04\n",
      "std      8.750504e+04\n",
      "min      1.000000e+02\n",
      "25%      1.852500e+04\n",
      "50%      3.990000e+04\n",
      "75%      7.900000e+04\n",
      "max      2.073400e+06\n",
      "Name: Volume, dtype: float64\n"
     ]
    },
    {
     "data": {
      "text/plain": [
       "<matplotlib.axes._subplots.AxesSubplot at 0x21a6d3f65c0>"
      ]
     },
     "execution_count": 6,
     "metadata": {},
     "output_type": "execute_result"
    },
    {
     "data": {
      "image/png": "[encoded data removed]",
      "text/plain": [
       "<Figure size 432x288 with 1 Axes>"
      ]
     },
     "metadata": {
      "needs_background": "light"
     },
     "output_type": "display_data"
    }
   ],
   "source": [
    "print(df.describe().Volume) \n",
    "df.drop(df[df['Volume']==0].index, inplace = True) #Dropping rows with volume value 0\n",
    "df['Volume'].hist(bins = 20)"
   ]
  },
  {
   "cell_type": "code",
   "execution_count": 7,
   "metadata": {},
   "outputs": [],
   "source": [
    "timesteps = np.arange(30,55,10)\n",
    "hl = []\n",
    "for i in range(30,55,10):\n",
    "    hl.append([i,i-5])\n",
    "lr = [1e-5,1e-4,1e-3,1e-2]\n",
    "batch_size = [16,32,64]\n",
    "num_epochs = [20]"
   ]
  },
  {
   "cell_type": "code",
   "execution_count": 8,
   "metadata": {
    "colab": {},
    "colab_type": "code",
    "id": "zRVEzZ1FXj_p"
   },
   "outputs": [],
   "source": [
    "#Build and train the model\n",
    "def fit_model(train,val,timesteps,hl,lr,batch,epochs):\n",
    "    X_train = []\n",
    "    Y_train = []\n",
    "    X_val = []\n",
    "    Y_val = []\n",
    "  \n",
    "    # Loop for training data\n",
    "    for i in range(timesteps,train.shape[0]):\n",
    "        X_train.append(train[i-timesteps:i])\n",
    "        Y_train.append(train[i][0])\n",
    "    X_train,Y_train = np.array(X_train),np.array(Y_train)\n",
    "  \n",
    "    # Loop for val data\n",
    "    for i in range(timesteps,val.shape[0]):\n",
    "        X_val.append(val[i-timesteps:i])\n",
    "        Y_val.append(val[i][0])\n",
    "    X_val,Y_val = np.array(X_val),np.array(Y_val)\n",
    "  \n",
    "    # Adding Layers to the model\n",
    "    model = Sequential()\n",
    "    model.add(GRU(X_train.shape[2],input_shape = (X_train.shape[1],X_train.shape[2]),return_sequences = True,\n",
    "                  activation = 'relu'))\n",
    "    for i in range(len(hl)-1):        \n",
    "        model.add(GRU(hl[i],activation = 'relu',return_sequences = True))\n",
    "    model.add(GRU(hl[-1],activation = 'relu'))\n",
    "    model.add(Dense(1))\n",
    "    model.compile(optimizer = optimizers.Adam(lr = lr), loss = 'mean_squared_error')\n",
    "    #print(model.summary())\n",
    "  \n",
    "    # Training the data\n",
    "    history = model.fit(X_train,Y_train,epochs = epochs,batch_size = batch,validation_data = (X_val, Y_val),verbose = 0,\n",
    "                        shuffle = False)#, callbacks=callbacks_list)\n",
    "    model.reset_states()\n",
    "    return model, history.history['loss'], history.history['val_loss']\n",
    "  "
   ]
  },
  {
   "cell_type": "code",
   "execution_count": 12,
   "metadata": {
    "colab": {},
    "colab_type": "code",
    "id": "LpwHmJeQJqyI"
   },
   "outputs": [],
   "source": [
    "# Evaluating the model\n",
    "def evaluate_model(model,test,timesteps):\n",
    "    X_test = []\n",
    "    Y_test = []\n",
    "\n",
    "    # Loop for testing data\n",
    "    for i in range(timesteps,test.shape[0]):\n",
    "        X_test.append(test[i-timesteps:i])\n",
    "        Y_test.append(test[i][0])\n",
    "    X_test,Y_test = np.array(X_test),np.array(Y_test)\n",
    "  \n",
    "    # Prediction Time !!!!\n",
    "    Y_hat = model.predict(X_test)\n",
    "    rmse = sqrt(mean_squared_error(Y_test,Y_hat))\n",
    "    r2 = r2_score(Y_test,Y_hat)\n",
    "    return rmse, r2, Y_test, Y_hat\n",
    "  "
   ]
  },
  {
   "cell_type": "code",
   "execution_count": 13,
   "metadata": {
    "colab": {},
    "colab_type": "code",
    "id": "pI0q18ajCLx6"
   },
   "outputs": [],
   "source": [
    "# Plotting the predictions\n",
    "def plot_data(Y_test,Y_hat):\n",
    "    plt.plot(Y_test,c = 'r')\n",
    "    plt.plot(Y_hat,c = 'y')\n",
    "    plt.xlabel('Day')\n",
    "    plt.ylabel('Price')\n",
    "    plt.title(\"Stock Price Prediction using Multivariate-GRU\")\n",
    "    plt.legend(['Actual','Predicted'],loc = 'upper right')\n",
    "    plt.show()"
   ]
  },
  {
   "cell_type": "code",
   "execution_count": 14,
   "metadata": {
    "colab": {},
    "colab_type": "code",
    "id": "4NeqKRBZZr0Q"
   },
   "outputs": [],
   "source": [
    "# Plotting the training errors\n",
    "def plot_error(train_loss,val_loss):\n",
    "    plt.plot(train_loss,c = 'r')\n",
    "    plt.plot(val_loss,c = 'b')\n",
    "    plt.ylabel('Loss')\n",
    "    plt.xlabel('Epochs')\n",
    "    plt.tiltle('Loss Plot')\n",
    "    plt.legend(['train','val'],loc = 'upper right')\n",
    "    plt.show()"
   ]
  },
  {
   "cell_type": "markdown",
   "metadata": {},
   "source": [
    "### Model 1"
   ]
  },
  {
   "cell_type": "code",
   "execution_count": 16,
   "metadata": {
    "colab": {},
    "colab_type": "code",
    "id": "gAvOMIyjIQO-"
   },
   "outputs": [
    {
     "name": "stdout",
     "output_type": "stream",
     "text": [
      "(5670, 3)\n",
      "                Close       High  Volume\n",
      "Date                                    \n",
      "2019-02-15  19.590000  19.639999  146000\n",
      "2019-02-19  19.549999  19.600000  138100\n",
      "2019-02-20  19.920000  20.059999  133400\n",
      "2019-02-21  20.190001  20.790001  167000\n",
      "2019-02-22  21.000000  21.080000  434100\n"
     ]
    }
   ],
   "source": [
    "# Extracting the series\n",
    "series = df[['Close','High','Volume']] # Picking the features\n",
    "print(series.shape)\n",
    "print(series.tail())"
   ]
  },
  {
   "cell_type": "code",
   "execution_count": 17,
   "metadata": {
    "colab": {},
    "colab_type": "code",
    "id": "Tjso-RjNDmbs"
   },
   "outputs": [
    {
     "name": "stdout",
     "output_type": "stream",
     "text": [
      "(2515, 3) (504, 3) (503, 3)\n"
     ]
    }
   ],
   "source": [
    "# Train Val Test Split\n",
    "train_start = dt.date(1997,1,1)\n",
    "train_end = dt.date(2006,12,31)\n",
    "train_data = series.loc[train_start:train_end]\n",
    "\n",
    "val_start = dt.date(2007,1,1)\n",
    "val_end = dt.date(2008,12,31)\n",
    "val_data = series.loc[val_start:val_end]\n",
    "\n",
    "test_start = dt.date(2009,1,1)\n",
    "test_end = dt.date(2010,12,31)\n",
    "test_data = series.loc[test_start:test_end]\n",
    "\n",
    "print(train_data.shape,val_data.shape,test_data.shape)"
   ]
  },
  {
   "cell_type": "code",
   "execution_count": 18,
   "metadata": {
    "colab": {},
    "colab_type": "code",
    "id": "NWXR5oL2ZnY4"
   },
   "outputs": [
    {
     "name": "stdout",
     "output_type": "stream",
     "text": [
      "(2515, 3) (504, 3) (503, 3)\n"
     ]
    },
    {
     "name": "stderr",
     "output_type": "stream",
     "text": [
      "C:\\Users\\Navodit\\Miniconda3\\lib\\site-packages\\sklearn\\preprocessing\\data.py:323: DataConversionWarning: Data with input dtype int64, float64 were all converted to float64 by MinMaxScaler.\n",
      "  return self.partial_fit(X, y)\n"
     ]
    }
   ],
   "source": [
    "# Normalisation\n",
    "sc = MinMaxScaler()\n",
    "train = sc.fit_transform(train_data)\n",
    "val = sc.transform(val_data)\n",
    "test = sc.transform(test_data)\n",
    "print(train.shape,val.shape,test.shape)"
   ]
  },
  {
   "cell_type": "code",
   "execution_count": null,
   "metadata": {},
   "outputs": [],
   "source": [
    "results = list()\n",
    "for t in timesteps:\n",
    "    for l in hl:\n",
    "        for rate in lr:\n",
    "            for batch in batch_size:\n",
    "                for epochs in num_epochs:\n",
    "                    model,train_loss,val_loss = fit_model(train,val,t,l,rate,batch,epochs)\n",
    "                    results.append([t,l,rate,batch,train_loss[-1],val_loss[-1]])\n",
    "pd.DataFrame(results,columns=['Timestep','Hidden_Layers','Learning_Rate','Batch_Size','Train_Loss','Val_Loss']).to_csv('Multivariate-3-GRU_model1.csv')\n"
   ]
  },
  {
   "cell_type": "code",
   "execution_count": 21,
   "metadata": {},
   "outputs": [
    {
     "name": "stdout",
     "output_type": "stream",
     "text": [
      "Train on 4488 samples, validate on 462 samples\n",
      "Epoch 1/500\n",
      " - 18s - loss: 0.0715 - val_loss: 0.0055\n",
      "Epoch 2/500\n",
      " - 12s - loss: 0.0208 - val_loss: 0.0318\n",
      "Epoch 3/500\n",
      " - 12s - loss: 0.0175 - val_loss: 0.0299\n",
      "Epoch 4/500\n",
      " - 12s - loss: 0.0173 - val_loss: 0.0288\n",
      "Epoch 5/500\n",
      " - 12s - loss: 0.0137 - val_loss: 0.0112\n",
      "Epoch 6/500\n",
      " - 11s - loss: 0.0096 - val_loss: 0.0014\n",
      "Epoch 7/500\n",
      " - 12s - loss: 0.0054 - val_loss: 0.0018\n",
      "Epoch 8/500\n",
      " - 13s - loss: 0.0036 - val_loss: 0.0018\n",
      "Epoch 9/500\n",
      " - 14s - loss: 0.0019 - val_loss: 4.8515e-04\n",
      "Epoch 10/500\n",
      " - 15s - loss: 0.0011 - val_loss: 3.3895e-04\n",
      "Epoch 11/500\n",
      " - 15s - loss: 8.0514e-04 - val_loss: 4.0571e-04\n",
      "Epoch 12/500\n",
      " - 18s - loss: 7.1754e-04 - val_loss: 4.9155e-04\n",
      "Epoch 13/500\n",
      " - 16s - loss: 6.8586e-04 - val_loss: 5.9618e-04\n",
      "Epoch 14/500\n",
      " - 18s - loss: 6.7642e-04 - val_loss: 7.1976e-04\n",
      "Epoch 15/500\n",
      " - 14s - loss: 6.7697e-04 - val_loss: 8.6536e-04\n",
      "Epoch 16/500\n",
      " - 15s - loss: 6.8341e-04 - val_loss: 0.0010\n",
      "Epoch 17/500\n",
      " - 16s - loss: 6.9250e-04 - val_loss: 0.0012\n",
      "Epoch 18/500\n",
      " - 15s - loss: 7.0259e-04 - val_loss: 0.0014\n",
      "Epoch 19/500\n",
      " - 14s - loss: 7.1342e-04 - val_loss: 0.0016\n",
      "Epoch 20/500\n",
      " - 14s - loss: 7.2845e-04 - val_loss: 0.0018\n",
      "Epoch 21/500\n",
      " - 13s - loss: 7.6456e-04 - val_loss: 0.0018\n",
      "Epoch 22/500\n",
      " - 14s - loss: 7.7999e-04 - val_loss: 0.0020\n",
      "Epoch 23/500\n",
      " - 13s - loss: 7.8955e-04 - val_loss: 0.0021\n",
      "Epoch 24/500\n",
      " - 14s - loss: 7.9375e-04 - val_loss: 0.0022\n",
      "Epoch 25/500\n",
      " - 14s - loss: 7.9270e-04 - val_loss: 0.0022\n",
      "Epoch 26/500\n",
      " - 13s - loss: 7.8597e-04 - val_loss: 0.0023\n",
      "Epoch 27/500\n",
      " - 14s - loss: 7.7305e-04 - val_loss: 0.0023\n",
      "Epoch 28/500\n",
      " - 14s - loss: 7.5332e-04 - val_loss: 0.0023\n",
      "Epoch 29/500\n",
      " - 13s - loss: 7.2761e-04 - val_loss: 0.0023\n",
      "Epoch 30/500\n",
      " - 14s - loss: 6.9700e-04 - val_loss: 0.0023\n",
      "Epoch 31/500\n",
      " - 13s - loss: 6.6329e-04 - val_loss: 0.0023\n",
      "Epoch 32/500\n",
      " - 13s - loss: 6.2848e-04 - val_loss: 0.0022\n",
      "Epoch 33/500\n",
      " - 16s - loss: 5.9403e-04 - val_loss: 0.0022\n",
      "Epoch 34/500\n",
      " - 20s - loss: 5.6106e-04 - val_loss: 0.0022\n",
      "Epoch 35/500\n",
      " - 19s - loss: 5.3121e-04 - val_loss: 0.0022\n",
      "Epoch 36/500\n",
      " - 22s - loss: 5.0474e-04 - val_loss: 0.0022\n",
      "Epoch 37/500\n",
      " - 23s - loss: 4.8365e-04 - val_loss: 0.0023\n",
      "Epoch 38/500\n",
      " - 23s - loss: 4.6797e-04 - val_loss: 0.0023\n",
      "Epoch 39/500\n",
      " - 21s - loss: 4.5798e-04 - val_loss: 0.0024\n",
      "Epoch 40/500\n",
      " - 22s - loss: 4.5325e-04 - val_loss: 0.0025\n",
      "Epoch 41/500\n",
      " - 28s - loss: 4.5366e-04 - val_loss: 0.0025\n",
      "Epoch 42/500\n",
      " - 17s - loss: 4.5907e-04 - val_loss: 0.0026\n",
      "Epoch 43/500\n",
      " - 15s - loss: 4.6943e-04 - val_loss: 0.0027\n",
      "Epoch 44/500\n",
      " - 14s - loss: 4.8511e-04 - val_loss: 0.0028\n",
      "Epoch 45/500\n",
      " - 14s - loss: 5.0681e-04 - val_loss: 0.0028\n",
      "Epoch 46/500\n",
      " - 14s - loss: 5.3551e-04 - val_loss: 0.0028\n",
      "Epoch 47/500\n",
      " - 14s - loss: 5.7155e-04 - val_loss: 0.0028\n",
      "Epoch 48/500\n",
      " - 14s - loss: 6.1500e-04 - val_loss: 0.0026\n",
      "Epoch 49/500\n",
      " - 14s - loss: 6.6755e-04 - val_loss: 0.0024\n",
      "Epoch 50/500\n",
      " - 14s - loss: 7.2233e-04 - val_loss: 0.0021\n",
      "Epoch 51/500\n",
      " - 14s - loss: 7.6865e-04 - val_loss: 0.0017\n",
      "Epoch 52/500\n",
      " - 14s - loss: 7.9666e-04 - val_loss: 0.0013\n",
      "Epoch 53/500\n",
      " - 14s - loss: 7.9594e-04 - val_loss: 0.0010\n",
      "Epoch 54/500\n",
      " - 14s - loss: 7.6429e-04 - val_loss: 0.0017\n",
      "Epoch 55/500\n",
      " - 14s - loss: 7.0192e-04 - val_loss: 8.3885e-04\n",
      "Epoch 56/500\n",
      " - 14s - loss: 7.0383e-04 - val_loss: 5.6860e-04\n",
      "Epoch 57/500\n",
      " - 14s - loss: 6.5791e-04 - val_loss: 4.3499e-04\n",
      "Epoch 58/500\n",
      " - 14s - loss: 5.9775e-04 - val_loss: 3.7301e-04\n",
      "Epoch 59/500\n",
      " - 14s - loss: 5.4223e-04 - val_loss: 3.4682e-04\n",
      "Epoch 60/500\n",
      " - 19s - loss: 4.9834e-04 - val_loss: 3.4298e-04\n",
      "Epoch 61/500\n",
      " - 17s - loss: 4.6736e-04 - val_loss: 3.5227e-04\n",
      "Epoch 62/500\n",
      " - 14s - loss: 4.4742e-04 - val_loss: 3.7560e-04\n",
      "Epoch 63/500\n",
      " - 14s - loss: 4.3592e-04 - val_loss: 4.0419e-04\n",
      "Epoch 64/500\n",
      " - 14s - loss: 4.3032e-04 - val_loss: 4.3864e-04\n",
      "Epoch 65/500\n",
      " - 14s - loss: 4.2996e-04 - val_loss: 4.7428e-04\n",
      "Epoch 66/500\n",
      " - 14s - loss: 4.3379e-04 - val_loss: 5.0898e-04\n",
      "Epoch 67/500\n",
      " - 14s - loss: 4.4124e-04 - val_loss: 5.3427e-04\n",
      "Epoch 68/500\n",
      " - 14s - loss: 4.5064e-04 - val_loss: 5.5231e-04\n",
      "Epoch 69/500\n",
      " - 14s - loss: 4.6015e-04 - val_loss: 5.5830e-04\n",
      "Epoch 70/500\n",
      " - 14s - loss: 4.6845e-04 - val_loss: 5.5645e-04\n",
      "Epoch 71/500\n",
      " - 22s - loss: 4.7776e-04 - val_loss: 5.3546e-04\n",
      "Epoch 72/500\n",
      " - 15s - loss: 4.8319e-04 - val_loss: 5.1179e-04\n",
      "Epoch 73/500\n",
      " - 14s - loss: 4.8569e-04 - val_loss: 4.8755e-04\n",
      "Epoch 74/500\n",
      " - 14s - loss: 4.8559e-04 - val_loss: 4.5757e-04\n",
      "Epoch 75/500\n",
      " - 14s - loss: 4.8349e-04 - val_loss: 4.2993e-04\n",
      "Epoch 76/500\n",
      " - 14s - loss: 4.7914e-04 - val_loss: 4.0679e-04\n",
      "Epoch 77/500\n",
      " - 14s - loss: 4.7441e-04 - val_loss: 3.9205e-04\n",
      "Epoch 78/500\n",
      " - 14s - loss: 4.6788e-04 - val_loss: 3.6445e-04\n",
      "Epoch 79/500\n",
      " - 14s - loss: 4.6198e-04 - val_loss: 3.4803e-04\n",
      "Epoch 80/500\n",
      " - 14s - loss: 4.5441e-04 - val_loss: 3.3370e-04\n",
      "Epoch 81/500\n",
      " - 16s - loss: 4.4644e-04 - val_loss: 3.2900e-04\n",
      "Epoch 82/500\n",
      " - 20s - loss: 4.4202e-04 - val_loss: 3.2220e-04\n",
      "Epoch 83/500\n",
      " - 14s - loss: 4.3641e-04 - val_loss: 3.1762e-04\n",
      "Epoch 84/500\n",
      " - 14s - loss: 4.3323e-04 - val_loss: 3.1235e-04\n",
      "Epoch 85/500\n",
      " - 14s - loss: 4.3083e-04 - val_loss: 3.0743e-04\n",
      "Epoch 86/500\n",
      " - 14s - loss: 4.2805e-04 - val_loss: 3.0346e-04\n",
      "Epoch 87/500\n",
      " - 14s - loss: 4.2634e-04 - val_loss: 3.0129e-04\n",
      "Epoch 88/500\n",
      " - 14s - loss: 4.2562e-04 - val_loss: 2.9939e-04\n",
      "Epoch 89/500\n",
      " - 14s - loss: 4.2491e-04 - val_loss: 2.9195e-04\n",
      "Epoch 90/500\n",
      " - 19s - loss: 4.2205e-04 - val_loss: 2.9284e-04\n",
      "Epoch 00090: early stopping\n"
     ]
    },
    {
     "data": {
      "image/png": "[encoded data removed]",
      "text/plain": [
       "<Figure size 432x288 with 1 Axes>"
      ]
     },
     "metadata": {},
     "output_type": "display_data"
    }
   ],
   "source": [
    "'''\n",
    "timesteps = 42\n",
    "hl = [35,30]\n",
    "lr = 8e-4\n",
    "batch_size = 32\n",
    "num_epochs = 500\n",
    "'''"
   ]
  },
  {
   "cell_type": "code",
   "execution_count": 22,
   "metadata": {},
   "outputs": [
    {
     "name": "stdout",
     "output_type": "stream",
     "text": [
      "0.020798640189155632\n"
     ]
    },
    {
     "data": {
      "image/png": "[encoded data removed]",
      "text/plain": [
       "<Figure size 432x288 with 1 Axes>"
      ]
     },
     "metadata": {},
     "output_type": "display_data"
    }
   ],
   "source": [
    "'''model,train_error,val_error = fit_model(train,val,timesteps,hl,lr,batch_size,num_epochs)\n",
    "plot_error(train_error,val_error)\n",
    "'''"
   ]
  },
  {
   "cell_type": "code",
   "execution_count": null,
   "metadata": {},
   "outputs": [],
   "source": [
    "'''\n",
    "rmse, r2_value, true,predicted = evaluate_model(model,test,42)\n",
    "print(rmse)\n",
    "plot_data(true,predicted)\n",
    "'''"
   ]
  },
  {
   "cell_type": "code",
   "execution_count": null,
   "metadata": {},
   "outputs": [],
   "source": [
    "# Save a model\n",
    "#model.save('model1.h5')\n",
    "del model  #Deletes the model\n",
    "# Load a model\n",
    "#model = load_model('model1.h5')"
   ]
  },
  {
   "cell_type": "markdown",
   "metadata": {},
   "source": [
    "### Model 2\n",
    "Converting volume to log scale"
   ]
  },
  {
   "cell_type": "code",
   "execution_count": 16,
   "metadata": {
    "colab": {},
    "colab_type": "code",
    "id": "gAvOMIyjIQO-"
   },
   "outputs": [
    {
     "name": "stdout",
     "output_type": "stream",
     "text": [
      "(5670, 3)\n",
      "                Close       High  Volume\n",
      "Date                                    \n",
      "2019-02-15  19.590000  19.639999  146000\n",
      "2019-02-19  19.549999  19.600000  138100\n",
      "2019-02-20  19.920000  20.059999  133400\n",
      "2019-02-21  20.190001  20.790001  167000\n",
      "2019-02-22  21.000000  21.080000  434100\n"
     ]
    }
   ],
   "source": [
    "# Converting Volume to log scale\n",
    "df['Volume_log'] = np.log(df['Volume'])\n",
    "print(df['Volume_log'].describe())\n",
    "df['Volume_log'].hist(bins=20)"
   ]
  },
  {
   "cell_type": "code",
   "execution_count": null,
   "metadata": {},
   "outputs": [],
   "source": [
    "# Extracting the series\n",
    "series = df[['Close','High','Volume_log']] # Picking the multivariate series \n",
    "print(series.shape)\n",
    "print(series.tail())"
   ]
  },
  {
   "cell_type": "code",
   "execution_count": 17,
   "metadata": {
    "colab": {},
    "colab_type": "code",
    "id": "Tjso-RjNDmbs"
   },
   "outputs": [
    {
     "name": "stdout",
     "output_type": "stream",
     "text": [
      "(2515, 3) (504, 3) (503, 3)\n"
     ]
    }
   ],
   "source": [
    "# Train Val Test Split\n",
    "train_start = dt.date(1997,1,1)\n",
    "train_end = dt.date(2006,12,31)\n",
    "train_data = series.loc[train_start:train_end]\n",
    "\n",
    "val_start = dt.date(2007,1,1)\n",
    "val_end = dt.date(2008,12,31)\n",
    "val_data = series.loc[val_start:val_end]\n",
    "\n",
    "test_start = dt.date(2009,1,1)\n",
    "test_end = dt.date(2010,12,31)\n",
    "test_data = series.loc[test_start:test_end]\n",
    "\n",
    "print(train_data.shape,val_data.shape,test_data.shape)"
   ]
  },
  {
   "cell_type": "code",
   "execution_count": 18,
   "metadata": {
    "colab": {},
    "colab_type": "code",
    "id": "NWXR5oL2ZnY4"
   },
   "outputs": [
    {
     "name": "stdout",
     "output_type": "stream",
     "text": [
      "(2515, 3) (504, 3) (503, 3)\n"
     ]
    },
    {
     "name": "stderr",
     "output_type": "stream",
     "text": [
      "C:\\Users\\Navodit\\Miniconda3\\lib\\site-packages\\sklearn\\preprocessing\\data.py:323: DataConversionWarning: Data with input dtype int64, float64 were all converted to float64 by MinMaxScaler.\n",
      "  return self.partial_fit(X, y)\n"
     ]
    }
   ],
   "source": [
    "# Normalisation\n",
    "sc = MinMaxScaler()\n",
    "train = sc.fit_transform(train_data)\n",
    "val = sc.transform(val_data)\n",
    "test = sc.transform(test_data)\n",
    "print(train.shape,val.shape,test.shape)"
   ]
  },
  {
   "cell_type": "code",
   "execution_count": null,
   "metadata": {},
   "outputs": [],
   "source": [
    "results = list()\n",
    "for t in timesteps:\n",
    "    for l in hl:\n",
    "        for rate in lr:\n",
    "            for batch in batch_size:\n",
    "                for epochs in num_epochs:\n",
    "                    model,train_loss,val_loss = fit_model(train,val,t,l,rate,batch,epochs)\n",
    "                    results.append([t,l,rate,batch,train_loss[-1],val_loss[-1]])\n",
    "pd.DataFrame(results,columns=['Timestep','Hidden_Layers','Learning_Rate','Batch_Size','Train_Loss','Val_Loss']).to_csv('Multivariate-3-GRU_model2.csv')\n"
   ]
  },
  {
   "cell_type": "code",
   "execution_count": 21,
   "metadata": {},
   "outputs": [
    {
     "name": "stdout",
     "output_type": "stream",
     "text": [
      "Train on 4488 samples, validate on 462 samples\n",
      "Epoch 1/500\n",
      " - 18s - loss: 0.0715 - val_loss: 0.0055\n",
      "Epoch 2/500\n",
      " - 12s - loss: 0.0208 - val_loss: 0.0318\n",
      "Epoch 3/500\n",
      " - 12s - loss: 0.0175 - val_loss: 0.0299\n",
      "Epoch 4/500\n",
      " - 12s - loss: 0.0173 - val_loss: 0.0288\n",
      "Epoch 5/500\n",
      " - 12s - loss: 0.0137 - val_loss: 0.0112\n",
      "Epoch 6/500\n",
      " - 11s - loss: 0.0096 - val_loss: 0.0014\n",
      "Epoch 7/500\n",
      " - 12s - loss: 0.0054 - val_loss: 0.0018\n",
      "Epoch 8/500\n",
      " - 13s - loss: 0.0036 - val_loss: 0.0018\n",
      "Epoch 9/500\n",
      " - 14s - loss: 0.0019 - val_loss: 4.8515e-04\n",
      "Epoch 10/500\n",
      " - 15s - loss: 0.0011 - val_loss: 3.3895e-04\n",
      "Epoch 11/500\n",
      " - 15s - loss: 8.0514e-04 - val_loss: 4.0571e-04\n",
      "Epoch 12/500\n",
      " - 18s - loss: 7.1754e-04 - val_loss: 4.9155e-04\n",
      "Epoch 13/500\n",
      " - 16s - loss: 6.8586e-04 - val_loss: 5.9618e-04\n",
      "Epoch 14/500\n",
      " - 18s - loss: 6.7642e-04 - val_loss: 7.1976e-04\n",
      "Epoch 15/500\n",
      " - 14s - loss: 6.7697e-04 - val_loss: 8.6536e-04\n",
      "Epoch 16/500\n",
      " - 15s - loss: 6.8341e-04 - val_loss: 0.0010\n",
      "Epoch 17/500\n",
      " - 16s - loss: 6.9250e-04 - val_loss: 0.0012\n",
      "Epoch 18/500\n",
      " - 15s - loss: 7.0259e-04 - val_loss: 0.0014\n",
      "Epoch 19/500\n",
      " - 14s - loss: 7.1342e-04 - val_loss: 0.0016\n",
      "Epoch 20/500\n",
      " - 14s - loss: 7.2845e-04 - val_loss: 0.0018\n",
      "Epoch 21/500\n",
      " - 13s - loss: 7.6456e-04 - val_loss: 0.0018\n",
      "Epoch 22/500\n",
      " - 14s - loss: 7.7999e-04 - val_loss: 0.0020\n",
      "Epoch 23/500\n",
      " - 13s - loss: 7.8955e-04 - val_loss: 0.0021\n",
      "Epoch 24/500\n",
      " - 14s - loss: 7.9375e-04 - val_loss: 0.0022\n",
      "Epoch 25/500\n",
      " - 14s - loss: 7.9270e-04 - val_loss: 0.0022\n",
      "Epoch 26/500\n",
      " - 13s - loss: 7.8597e-04 - val_loss: 0.0023\n",
      "Epoch 27/500\n",
      " - 14s - loss: 7.7305e-04 - val_loss: 0.0023\n",
      "Epoch 28/500\n",
      " - 14s - loss: 7.5332e-04 - val_loss: 0.0023\n",
      "Epoch 29/500\n",
      " - 13s - loss: 7.2761e-04 - val_loss: 0.0023\n",
      "Epoch 30/500\n",
      " - 14s - loss: 6.9700e-04 - val_loss: 0.0023\n",
      "Epoch 31/500\n",
      " - 13s - loss: 6.6329e-04 - val_loss: 0.0023\n",
      "Epoch 32/500\n",
      " - 13s - loss: 6.2848e-04 - val_loss: 0.0022\n",
      "Epoch 33/500\n",
      " - 16s - loss: 5.9403e-04 - val_loss: 0.0022\n",
      "Epoch 34/500\n",
      " - 20s - loss: 5.6106e-04 - val_loss: 0.0022\n",
      "Epoch 35/500\n",
      " - 19s - loss: 5.3121e-04 - val_loss: 0.0022\n",
      "Epoch 36/500\n",
      " - 22s - loss: 5.0474e-04 - val_loss: 0.0022\n",
      "Epoch 37/500\n",
      " - 23s - loss: 4.8365e-04 - val_loss: 0.0023\n",
      "Epoch 38/500\n",
      " - 23s - loss: 4.6797e-04 - val_loss: 0.0023\n",
      "Epoch 39/500\n",
      " - 21s - loss: 4.5798e-04 - val_loss: 0.0024\n",
      "Epoch 40/500\n",
      " - 22s - loss: 4.5325e-04 - val_loss: 0.0025\n",
      "Epoch 41/500\n",
      " - 28s - loss: 4.5366e-04 - val_loss: 0.0025\n",
      "Epoch 42/500\n",
      " - 17s - loss: 4.5907e-04 - val_loss: 0.0026\n",
      "Epoch 43/500\n",
      " - 15s - loss: 4.6943e-04 - val_loss: 0.0027\n",
      "Epoch 44/500\n",
      " - 14s - loss: 4.8511e-04 - val_loss: 0.0028\n",
      "Epoch 45/500\n",
      " - 14s - loss: 5.0681e-04 - val_loss: 0.0028\n",
      "Epoch 46/500\n",
      " - 14s - loss: 5.3551e-04 - val_loss: 0.0028\n",
      "Epoch 47/500\n",
      " - 14s - loss: 5.7155e-04 - val_loss: 0.0028\n",
      "Epoch 48/500\n",
      " - 14s - loss: 6.1500e-04 - val_loss: 0.0026\n",
      "Epoch 49/500\n",
      " - 14s - loss: 6.6755e-04 - val_loss: 0.0024\n",
      "Epoch 50/500\n",
      " - 14s - loss: 7.2233e-04 - val_loss: 0.0021\n",
      "Epoch 51/500\n",
      " - 14s - loss: 7.6865e-04 - val_loss: 0.0017\n",
      "Epoch 52/500\n",
      " - 14s - loss: 7.9666e-04 - val_loss: 0.0013\n",
      "Epoch 53/500\n",
      " - 14s - loss: 7.9594e-04 - val_loss: 0.0010\n",
      "Epoch 54/500\n",
      " - 14s - loss: 7.6429e-04 - val_loss: 0.0017\n",
      "Epoch 55/500\n",
      " - 14s - loss: 7.0192e-04 - val_loss: 8.3885e-04\n",
      "Epoch 56/500\n",
      " - 14s - loss: 7.0383e-04 - val_loss: 5.6860e-04\n",
      "Epoch 57/500\n",
      " - 14s - loss: 6.5791e-04 - val_loss: 4.3499e-04\n",
      "Epoch 58/500\n",
      " - 14s - loss: 5.9775e-04 - val_loss: 3.7301e-04\n",
      "Epoch 59/500\n",
      " - 14s - loss: 5.4223e-04 - val_loss: 3.4682e-04\n",
      "Epoch 60/500\n",
      " - 19s - loss: 4.9834e-04 - val_loss: 3.4298e-04\n",
      "Epoch 61/500\n",
      " - 17s - loss: 4.6736e-04 - val_loss: 3.5227e-04\n",
      "Epoch 62/500\n",
      " - 14s - loss: 4.4742e-04 - val_loss: 3.7560e-04\n",
      "Epoch 63/500\n",
      " - 14s - loss: 4.3592e-04 - val_loss: 4.0419e-04\n",
      "Epoch 64/500\n",
      " - 14s - loss: 4.3032e-04 - val_loss: 4.3864e-04\n",
      "Epoch 65/500\n",
      " - 14s - loss: 4.2996e-04 - val_loss: 4.7428e-04\n",
      "Epoch 66/500\n",
      " - 14s - loss: 4.3379e-04 - val_loss: 5.0898e-04\n",
      "Epoch 67/500\n",
      " - 14s - loss: 4.4124e-04 - val_loss: 5.3427e-04\n",
      "Epoch 68/500\n",
      " - 14s - loss: 4.5064e-04 - val_loss: 5.5231e-04\n",
      "Epoch 69/500\n",
      " - 14s - loss: 4.6015e-04 - val_loss: 5.5830e-04\n",
      "Epoch 70/500\n",
      " - 14s - loss: 4.6845e-04 - val_loss: 5.5645e-04\n",
      "Epoch 71/500\n",
      " - 22s - loss: 4.7776e-04 - val_loss: 5.3546e-04\n",
      "Epoch 72/500\n",
      " - 15s - loss: 4.8319e-04 - val_loss: 5.1179e-04\n",
      "Epoch 73/500\n",
      " - 14s - loss: 4.8569e-04 - val_loss: 4.8755e-04\n",
      "Epoch 74/500\n",
      " - 14s - loss: 4.8559e-04 - val_loss: 4.5757e-04\n",
      "Epoch 75/500\n",
      " - 14s - loss: 4.8349e-04 - val_loss: 4.2993e-04\n",
      "Epoch 76/500\n",
      " - 14s - loss: 4.7914e-04 - val_loss: 4.0679e-04\n",
      "Epoch 77/500\n",
      " - 14s - loss: 4.7441e-04 - val_loss: 3.9205e-04\n",
      "Epoch 78/500\n",
      " - 14s - loss: 4.6788e-04 - val_loss: 3.6445e-04\n",
      "Epoch 79/500\n",
      " - 14s - loss: 4.6198e-04 - val_loss: 3.4803e-04\n",
      "Epoch 80/500\n",
      " - 14s - loss: 4.5441e-04 - val_loss: 3.3370e-04\n",
      "Epoch 81/500\n",
      " - 16s - loss: 4.4644e-04 - val_loss: 3.2900e-04\n",
      "Epoch 82/500\n",
      " - 20s - loss: 4.4202e-04 - val_loss: 3.2220e-04\n",
      "Epoch 83/500\n",
      " - 14s - loss: 4.3641e-04 - val_loss: 3.1762e-04\n",
      "Epoch 84/500\n",
      " - 14s - loss: 4.3323e-04 - val_loss: 3.1235e-04\n",
      "Epoch 85/500\n",
      " - 14s - loss: 4.3083e-04 - val_loss: 3.0743e-04\n",
      "Epoch 86/500\n",
      " - 14s - loss: 4.2805e-04 - val_loss: 3.0346e-04\n",
      "Epoch 87/500\n",
      " - 14s - loss: 4.2634e-04 - val_loss: 3.0129e-04\n",
      "Epoch 88/500\n",
      " - 14s - loss: 4.2562e-04 - val_loss: 2.9939e-04\n",
      "Epoch 89/500\n",
      " - 14s - loss: 4.2491e-04 - val_loss: 2.9195e-04\n",
      "Epoch 90/500\n",
      " - 19s - loss: 4.2205e-04 - val_loss: 2.9284e-04\n",
      "Epoch 00090: early stopping\n"
     ]
    },
    {
     "data": {
      "image/png": "[encoded data removed]",
      "text/plain": [
       "<Figure size 432x288 with 1 Axes>"
      ]
     },
     "metadata": {},
     "output_type": "display_data"
    }
   ],
   "source": [
    "'''\n",
    "timesteps = 42\n",
    "hl = [35,30]\n",
    "lr = 8e-4\n",
    "batch_size = 32\n",
    "num_epochs = 500\n",
    "'''"
   ]
  },
  {
   "cell_type": "code",
   "execution_count": 22,
   "metadata": {},
   "outputs": [
    {
     "name": "stdout",
     "output_type": "stream",
     "text": [
      "0.020798640189155632\n"
     ]
    },
    {
     "data": {
      "image/png": "[encoded data removed]",
      "text/plain": [
       "<Figure size 432x288 with 1 Axes>"
      ]
     },
     "metadata": {},
     "output_type": "display_data"
    }
   ],
   "source": [
    "'''model,train_error,val_error = fit_model(train,val,timesteps,hl,lr,batch_size,num_epochs)\n",
    "plot_error(train_error,val_error)\n",
    "'''"
   ]
  },
  {
   "cell_type": "code",
   "execution_count": null,
   "metadata": {},
   "outputs": [],
   "source": [
    "'''\n",
    "rmse, r2_value, true,predicted = evaluate_model(model,test,42)\n",
    "print(rmse)\n",
    "plot_data(true,predicted)\n",
    "'''"
   ]
  },
  {
   "cell_type": "code",
   "execution_count": null,
   "metadata": {},
   "outputs": [],
   "source": [
    "# Save a model\n",
    "#model.save('model1.h5')\n",
    "del model  #Deletes the model\n",
    "# Load a model\n",
    "#model = load_model('model1.h5')"
   ]
  }
 ],
 "metadata": {
  "accelerator": "TPU",
  "colab": {
   "collapsed_sections": [],
   "name": "Multivariate-3-GRU.ipynb",
   "provenance": [
    {
     "file_id": "1ANiwUb7Hem1MxFKaX-BUbbEjAGAmJ2l8",
     "timestamp": 1551229090275
    },
    {
     "file_id": "1TbS1iN6r9LWkUIIg2eyr5EB0pIzV5yAK",
     "timestamp": 1551228758851
    },
    {
     "file_id": "1iQNCZLjJhQ56R4aZ1sLrnNQ4PS2KfN2m",
     "timestamp": 1551146300148
    },
    {
     "file_id": "1OKnKPBI38XYPGQW0xUAj0nnJbfO6SuXE",
     "timestamp": 1550670800726
    }
   ],
   "version": "0.3.2"
  },
  "kernelspec": {
   "display_name": "Python [default]",
   "language": "python",
   "name": "python3"
  },
  "language_info": {
   "codemirror_mode": {
    "name": "ipython",
    "version": 3
   },
   "file_extension": ".py",
   "mimetype": "text/x-python",
   "name": "python",
   "nbconvert_exporter": "python",
   "pygments_lexer": "ipython3",
   "version": "3.6.8"
  }
 },
 "nbformat": 4,
 "nbformat_minor": 1
}
