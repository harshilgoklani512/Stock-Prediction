{
 "cells": [
  {
   "cell_type": "code",
   "execution_count": 1,
   "metadata": {},
   "outputs": [],
   "source": [
    "import numpy as np\n",
    "import pandas as pd\n",
    "import matplotlib.pyplot as plt\n",
    "plt.style.use('ggplot')"
   ]
  },
  {
   "cell_type": "code",
   "execution_count": 2,
   "metadata": {},
   "outputs": [],
   "source": [
    "lr = [1e-2,5e-3,1e-3,5e-4,1e-4,5e-5]"
   ]
  },
  {
   "cell_type": "code",
   "execution_count": null,
   "metadata": {},
   "outputs": [],
   "source": [
    "fiveeminus5_train = pd.DataFrame()\n",
    "fiveeminus5_val = pd.DataFrame()\n",
    "for i in range(35):\n",
    "    fiveeminus5_train[str(i)] = pd.read_csv('Results/exp_{}_train_loss.csv'.format(i), index_col = 0)[str(5e-5)]\n",
    "    fiveeminus5_val[str(i)] = pd.read_csv('Results/exp_{}_val_loss.csv'.format(i), index_col = 0)[str(5e-5)]\n",
    "fiveeminus5_train.to_csv('fiveeminus5_train.csv')\n",
    "fiveeminus5_val.to_csv('fiveeminus5_val.csv')"
   ]
  },
  {
   "cell_type": "code",
   "execution_count": null,
   "metadata": {},
   "outputs": [],
   "source": [
    "fiveeminus5_val.shape"
   ]
  },
  {
   "cell_type": "code",
   "execution_count": null,
   "metadata": {},
   "outputs": [],
   "source": [
    "plt.figure(figsize = [15,10])\n",
    "lst = list(np.arange(0,35,1))\n",
    "for i in lst:\n",
    "    plt.plot(pd.read_csv('Results/exp_{}_train_loss.csv'.format(i), index_col = 0)[str(1e-4)],c = 'r')\n",
    "    plt.plot(pd.read_csv('Results/exp_{}_val_loss.csv'.format(i), index_col = 0)[str(1e-4)],c = 'y')\n",
    "plt.ylim(0,0.6) "
   ]
  },
  {
   "cell_type": "code",
   "execution_count": 3,
   "metadata": {},
   "outputs": [],
   "source": [
    "df_train = pd.DataFrame()\n",
    "df_val = pd.DataFrame()\n",
    "for i in range(35):\n",
    "    df_train[str(i)] = pd.read_csv('Results/exp_{}_train_loss.csv'.format(i), index_col = 0).T.iloc[:,-1]\n",
    "    df_val[str(i)] = pd.read_csv('Results/exp_{}_val_loss.csv'.format(i), index_col = 0).T.iloc[:,-1]\n",
    "df_train, df_val = df_train.T, df_val.T"
   ]
  },
  {
   "cell_type": "code",
   "execution_count": 4,
   "metadata": {},
   "outputs": [
    {
     "data": {
      "text/plain": [
       "Index(['0', '1', '2', '3', '4', '5', '6', '7', '8', '9', '10', '11', '12',\n",
       "       '13', '14', '15', '16', '17', '18', '19', '20', '21', '22', '23', '24',\n",
       "       '25', '26', '27', '28', '29', '30', '31', '32', '33', '34'],\n",
       "      dtype='object')"
      ]
     },
     "execution_count": 4,
     "metadata": {},
     "output_type": "execute_result"
    }
   ],
   "source": [
    "for i in range(len(df_train.columns)):\n",
    "    df_train = df_train[df_train[df_train.columns[i]] < 1]\n",
    "df_train.index"
   ]
  },
  {
   "cell_type": "code",
   "execution_count": 5,
   "metadata": {},
   "outputs": [
    {
     "data": {
      "text/plain": [
       "Index(['0', '1', '2', '3', '4', '5', '6', '7', '8', '9', '10', '11', '12',\n",
       "       '13', '14', '15', '16', '17', '18', '19', '20', '21', '22', '23', '24',\n",
       "       '25', '26', '27', '28', '29', '30', '31', '32', '33', '34'],\n",
       "      dtype='object')"
      ]
     },
     "execution_count": 5,
     "metadata": {},
     "output_type": "execute_result"
    }
   ],
   "source": [
    "for i in range(len(df_val.columns)):\n",
    "    df_val = df_val[df_val[df_val.columns[i]] < 1]\n",
    "df_val.index"
   ]
  },
  {
   "cell_type": "code",
   "execution_count": 6,
   "metadata": {},
   "outputs": [],
   "source": [
    "df_train = df_train[df_train.columns[::-1]]\n",
    "df_val = df_val[df_val.columns[::-1]]"
   ]
  },
  {
   "cell_type": "code",
   "execution_count": 8,
   "metadata": {},
   "outputs": [
    {
     "name": "stdout",
     "output_type": "stream",
     "text": [
      "(35, 6)\n"
     ]
    },
    {
     "data": {
      "text/plain": [
       "<matplotlib.axes._subplots.AxesSubplot at 0x20b202e5f98>"
      ]
     },
     "execution_count": 8,
     "metadata": {},
     "output_type": "execute_result"
    },
    {
     "data": {
      "image/png": "[encoded data removed]",
      "text/plain": [
       "<Figure size 720x576 with 1 Axes>"
      ]
     },
     "metadata": {
      "needs_background": "light"
     },
     "output_type": "display_data"
    }
   ],
   "source": [
    "\n",
    "plt.figure(figsize = [10,8])\n",
    "print(df_train.shape)\n",
    "df_train.mean().plot(c = 'r')\n",
    "#df_train.median().plot(c = 'b')\n",
    "df_val.mean().plot(c = 'b')"
   ]
  },
  {
   "cell_type": "code",
   "execution_count": null,
   "metadata": {},
   "outputs": [],
   "source": [
    "print(df_train.describe())\n",
    "df_train.boxplot()"
   ]
  },
  {
   "cell_type": "code",
   "execution_count": null,
   "metadata": {},
   "outputs": [],
   "source": [
    "v = np.linspace(-5,-4,num = 11)\n",
    "v"
   ]
  },
  {
   "cell_type": "code",
   "execution_count": null,
   "metadata": {},
   "outputs": [],
   "source": [
    "lr = [10**x for x in np.linspace(-5,-4,num = 11)]"
   ]
  },
  {
   "cell_type": "code",
   "execution_count": null,
   "metadata": {},
   "outputs": [],
   "source": [
    "lr"
   ]
  },
  {
   "cell_type": "code",
   "execution_count": null,
   "metadata": {},
   "outputs": [],
   "source": []
  }
 ],
 "metadata": {
  "kernelspec": {
   "display_name": "Python [default]",
   "language": "python",
   "name": "python3"
  },
  "language_info": {
   "codemirror_mode": {
    "name": "ipython",
    "version": 3
   },
   "file_extension": ".py",
   "mimetype": "text/x-python",
   "name": "python",
   "nbconvert_exporter": "python",
   "pygments_lexer": "ipython3",
   "version": "3.6.8"
  }
 },
 "nbformat": 4,
 "nbformat_minor": 2
}
